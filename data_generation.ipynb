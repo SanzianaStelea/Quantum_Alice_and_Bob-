{
 "cells": [
  {
   "cell_type": "code",
   "execution_count": 1,
   "id": "e2bf661e",
   "metadata": {},
   "outputs": [],
   "source": [
    "import torch\n",
    "import dynamiqs as dq\n",
    "import numpy as np\n",
    "import matplotlib.pyplot as plt\n",
    "import jax.numpy as jnp\n",
    "from scipy.ndimage import gaussian_filter, shift\n",
    "from random import choice\n",
    "\n",
    "import os\n",
    "from tqdm import tqdm\n",
    "\n",
    "dim = 40\n",
    "\n",
    "xvec = jnp.linspace(-4, 4, 201)\n",
    "pvec = jnp.linspace(-4, 4, 201)\n",
    "#grid = jnp.meshgrid(xvec, pvec)"
   ]
  },
  {
   "cell_type": "code",
   "execution_count": 7,
   "id": "6ef3f49b",
   "metadata": {},
   "outputs": [],
   "source": [
    "def generate_even_cat_state(alpha=2.0):\n",
    "    coh = dq.coherent(dim, alpha)\n",
    "    coh_neg = dq.coherent(dim, -alpha)\n",
    "    cat = (coh + coh_neg) / jnp.sqrt(2)\n",
    "    return cat\n",
    "\n",
    "def generate_odd_cat_state(alpha=2.0):\n",
    "    coh = dq.coherent(dim, alpha)\n",
    "    coh_neg = dq.coherent(dim, -alpha)\n",
    "    cat = (coh - coh_neg) / jnp.sqrt(2)\n",
    "    return cat\n",
    "\n",
    "def generate_fock_state(n):\n",
    "    return dq.fock(dim, n)\n",
    "\n",
    "def generate_coherent_state(alpha):\n",
    "    return dq.coherent(dim, alpha)\n",
    "\n",
    "def evolve_state_with_loss(state, kappa=1.0, t=1.0):\n",
    "    a = dq.destroy(dim)\n",
    "    H = 0.0 * a  # trivial Hamiltonian\n",
    "    result = dq.solve(\n",
    "        H,\n",
    "        state,\n",
    "        t,\n",
    "        c_ops=[(jnp.sqrt(kappa), a)],\n",
    "        steps=100,\n",
    "        solver=\"me\"\n",
    "    )\n",
    "    return result.final_state\n"
   ]
  },
  {
   "cell_type": "code",
   "execution_count": 8,
   "id": "0df2d102",
   "metadata": {},
   "outputs": [],
   "source": [
    "def add_realistic_noise(wigner, rng=np.random.default_rng(), config=None):\n",
    "    config = config or {\"gaussian_sigma\": 1.5, \"additive_std\": 0.02, \"shift_std\": 1.0}\n",
    "    w_noisy = gaussian_filter(wigner, sigma=config[\"gaussian_sigma\"])\n",
    "    w_noisy += rng.normal(scale=config[\"additive_std\"], size=wigner.shape)\n",
    "    w_noisy = shift(w_noisy, shift=rng.normal(scale=config[\"shift_std\"], size=2))\n",
    "    return w_noisy\n"
   ]
  },
  {
   "cell_type": "code",
   "execution_count": 9,
   "id": "d3942bd3",
   "metadata": {},
   "outputs": [],
   "source": [
    "def generate_dataset_sample(state_type, alpha=2.0, n=None, noise=True):\n",
    "    if state_type == \"even_cat\":\n",
    "        state = generate_even_cat_state(alpha)\n",
    "    elif state_type == \"odd_cat\":\n",
    "        state = generate_odd_cat_state(alpha)\n",
    "    elif state_type == \"fock\":\n",
    "        assert n is not None\n",
    "        state = generate_fock_state(n)\n",
    "    elif state_type == \"coherent\":\n",
    "        state = generate_coherent_state(alpha)\n",
    "    else:\n",
    "        raise ValueError(f\"Unknown state type: {state_type}\")\n",
    "\n",
    "    wigner_clean = dq.wigner(state, xvec=xvec, yvec=pvec)\n",
    "\n",
    "    if noise:\n",
    "        wigner_noisy = add_realistic_noise(np.array(wigner_clean))\n",
    "    else:\n",
    "        wigner_noisy = np.array(wigner_clean)\n",
    "\n",
    "    return np.array(wigner_noisy), np.array(wigner_clean)\n"
   ]
  },
  {
   "cell_type": "code",
   "execution_count": 10,
   "id": "ab01ae9b",
   "metadata": {},
   "outputs": [],
   "source": [
    "def plot_wigner_pair(w_clean, w_noisy, title):\n",
    "    fig, axs = plt.subplots(1, 2, figsize=(10, 4))\n",
    "    vmin = min(w_clean.min(), w_noisy.min())\n",
    "    vmax = max(w_clean.max(), w_noisy.max())\n",
    "\n",
    "    im0 = axs[0].imshow(w_clean, extent=(-4, 4, -4, 4), origin='lower', cmap='RdBu_r', vmin=vmin, vmax=vmax)\n",
    "    axs[0].set_title(f\"{title} (clean)\")\n",
    "    axs[0].set_xlabel(\"x\")\n",
    "    axs[0].set_ylabel(\"p\")\n",
    "\n",
    "    im1 = axs[1].imshow(w_noisy, extent=(-4, 4, -4, 4), origin='lower', cmap='RdBu_r', vmin=vmin, vmax=vmax)\n",
    "    axs[1].set_title(f\"{title} (noisy)\")\n",
    "    axs[1].set_xlabel(\"x\")\n",
    "\n",
    "    fig.colorbar(im1, ax=axs.ravel().tolist(), shrink=0.75)\n",
    "    plt.tight_layout()\n",
    "    plt.show()\n"
   ]
  },
  {
   "cell_type": "code",
   "execution_count": 11,
   "id": "76e0d288",
   "metadata": {},
   "outputs": [
    {
     "ename": "ValueError",
     "evalue": "setting an array element with a sequence. The requested array has an inhomogeneous shape after 2 dimensions. The detected shape was (3, 201) + inhomogeneous part.",
     "output_type": "error",
     "traceback": [
      "\u001b[31m---------------------------------------------------------------------------\u001b[39m",
      "\u001b[31mValueError\u001b[39m                                Traceback (most recent call last)",
      "\u001b[36mCell\u001b[39m\u001b[36m \u001b[39m\u001b[32mIn[11]\u001b[39m\u001b[32m, line 11\u001b[39m\n\u001b[32m      3\u001b[39m samples_to_plot = [\n\u001b[32m      4\u001b[39m     (\u001b[33m\"\u001b[39m\u001b[33meven_cat\u001b[39m\u001b[33m\"\u001b[39m, {\u001b[33m\"\u001b[39m\u001b[33malpha\u001b[39m\u001b[33m\"\u001b[39m: \u001b[32m2.0\u001b[39m}),\n\u001b[32m      5\u001b[39m     (\u001b[33m\"\u001b[39m\u001b[33modd_cat\u001b[39m\u001b[33m\"\u001b[39m, {\u001b[33m\"\u001b[39m\u001b[33malpha\u001b[39m\u001b[33m\"\u001b[39m: \u001b[32m2.0\u001b[39m}),\n\u001b[32m      6\u001b[39m     (\u001b[33m\"\u001b[39m\u001b[33mfock\u001b[39m\u001b[33m\"\u001b[39m, {\u001b[33m\"\u001b[39m\u001b[33mn\u001b[39m\u001b[33m\"\u001b[39m: \u001b[32m3\u001b[39m}),\n\u001b[32m      7\u001b[39m     (\u001b[33m\"\u001b[39m\u001b[33mcoherent\u001b[39m\u001b[33m\"\u001b[39m, {\u001b[33m\"\u001b[39m\u001b[33malpha\u001b[39m\u001b[33m\"\u001b[39m: \u001b[32m1.5\u001b[39m}),\n\u001b[32m      8\u001b[39m ]\n\u001b[32m     10\u001b[39m \u001b[38;5;28;01mfor\u001b[39;00m state_type, params \u001b[38;5;129;01min\u001b[39;00m samples_to_plot:\n\u001b[32m---> \u001b[39m\u001b[32m11\u001b[39m     w_noisy, w_clean = generate_dataset_sample(\n\u001b[32m     12\u001b[39m         state_type,\n\u001b[32m     13\u001b[39m         noise=\u001b[38;5;28;01mTrue\u001b[39;00m,\n\u001b[32m     14\u001b[39m         **params\n\u001b[32m     15\u001b[39m     )\n\u001b[32m     16\u001b[39m     plot_wigner_pair(w_clean, w_noisy, state_type)\n",
      "\u001b[36mCell\u001b[39m\u001b[36m \u001b[39m\u001b[32mIn[9]\u001b[39m\u001b[32m, line 17\u001b[39m, in \u001b[36mgenerate_dataset_sample\u001b[39m\u001b[34m(state_type, alpha, n, noise)\u001b[39m\n\u001b[32m     14\u001b[39m wigner_clean = dq.wigner(state, xvec=xvec, yvec=pvec)\n\u001b[32m     16\u001b[39m \u001b[38;5;28;01mif\u001b[39;00m noise:\n\u001b[32m---> \u001b[39m\u001b[32m17\u001b[39m     wigner_noisy = add_realistic_noise(np.array(wigner_clean))\n\u001b[32m     18\u001b[39m \u001b[38;5;28;01melse\u001b[39;00m:\n\u001b[32m     19\u001b[39m     wigner_noisy = np.array(wigner_clean)\n",
      "\u001b[31mValueError\u001b[39m: setting an array element with a sequence. The requested array has an inhomogeneous shape after 2 dimensions. The detected shape was (3, 201) + inhomogeneous part."
     ]
    }
   ],
   "source": [
    "rng = np.random.default_rng(42)\n",
    "\n",
    "samples_to_plot = [\n",
    "    (\"even_cat\", {\"alpha\": 2.0}),\n",
    "    (\"odd_cat\", {\"alpha\": 2.0}),\n",
    "    (\"fock\", {\"n\": 3}),\n",
    "    (\"coherent\", {\"alpha\": 1.5}),\n",
    "]\n",
    "\n",
    "for state_type, params in samples_to_plot:\n",
    "    w_noisy, w_clean = generate_dataset_sample(\n",
    "        state_type,\n",
    "        noise=True,\n",
    "        **params\n",
    "    )\n",
    "    plot_wigner_pair(w_clean, w_noisy, state_type)\n"
   ]
  },
  {
   "cell_type": "code",
   "execution_count": null,
   "id": "e5a56353",
   "metadata": {},
   "outputs": [],
   "source": [
    "from random import choice\n",
    "\n",
    "state_pool = [\"even_cat\", \"odd_cat\", \"fock\", \"coherent\"]\n",
    "weights = [0.3, 0.2, 0.2, 0.3]  # favor cats and coherent\n",
    "\n",
    "n_samples = 1000\n",
    "save_path = \"wigner_dataset/\"\n",
    "os.makedirs(save_path, exist_ok=True)\n",
    "\n",
    "data = []\n",
    "\n",
    "for i in tqdm(range(n_samples)):\n",
    "    state_type = np.random.choice(state_pool, p=weights)\n",
    "    if state_type in [\"even_cat\", \"odd_cat\", \"coherent\"]:\n",
    "        alpha = np.random.uniform(1.0, 3.0)\n",
    "        w_noisy, w_clean = generate_dataset_sample(state_type, alpha=alpha, decohere=True)\n",
    "    elif state_type == \"fock\":\n",
    "        n = np.random.randint(1, 6)\n",
    "        w_noisy, w_clean = generate_dataset_sample(\"fock\", n=n, decohere=True)\n",
    "\n",
    "    np.savez_compressed(f\"{save_path}/sample_{i}.npz\", noisy=w_noisy, clean=w_clean)\n"
   ]
  }
 ],
 "metadata": {
  "kernelspec": {
   "display_name": "alicebobhack",
   "language": "python",
   "name": "python3"
  },
  "language_info": {
   "codemirror_mode": {
    "name": "ipython",
    "version": 3
   },
   "file_extension": ".py",
   "mimetype": "text/x-python",
   "name": "python",
   "nbconvert_exporter": "python",
   "pygments_lexer": "ipython3",
   "version": "3.13.2"
  }
 },
 "nbformat": 4,
 "nbformat_minor": 5
}
